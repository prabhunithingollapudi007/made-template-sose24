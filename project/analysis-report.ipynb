{
 "cells": [
  {
   "cell_type": "markdown",
   "metadata": {},
   "source": [
    "# Charging Infrastructures for EVs and Fuel prices in France\n"
   ]
  },
  {
   "cell_type": "markdown",
   "metadata": {},
   "source": [
    "## Introduction\n",
    "\n",
    "### Is the fuel price in France affecting the number of charging stations for electric vehicles?\n",
    "\n",
    "Electric vehicles (EVs) are becoming more and more popular in the world thereby resulting in an increase in demand for charging stations. We already know that fuel prices are one of the driving factors for the adaptation of electric vehicles but is it also affecting the number of charging stations ? In this notebook, we will try to dig deeper into this question by analyzing the fuel prices and the number of charging stations in France."
   ]
  }
 ],
 "metadata": {
  "language_info": {
   "name": "python"
  }
 },
 "nbformat": 4,
 "nbformat_minor": 2
}
